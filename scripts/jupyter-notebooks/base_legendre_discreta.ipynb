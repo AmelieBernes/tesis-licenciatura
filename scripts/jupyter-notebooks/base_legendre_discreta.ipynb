{
  "nbformat": 4,
  "nbformat_minor": 0,
  "metadata": {
    "colab": {
      "provenance": []
    },
    "kernelspec": {
      "name": "python3",
      "display_name": "Python 3"
    },
    "language_info": {
      "name": "python"
    }
  },
  "cells": [
    {
      "cell_type": "markdown",
      "source": [
        "# Cálculo de la base de Legendre discreta"
      ],
      "metadata": {
        "id": "R7m5T_Rr1ZBh"
      }
    },
    {
      "cell_type": "markdown",
      "source": [
        "**Notas (miércoles 18 de enero, 2023)**\n",
        "\n",
        "-Ahora las funciones que calculan las bases de legendre discretas tienen un segundo argumento, que es una función en base a la cual se calcula \n",
        "la sumatoria de los $B_{n,k,m,j}$.\n",
        "\n",
        "**Notas (miércoles 18 de enero, 2023)**\n",
        "\n",
        "-TODO: piensa si implementar python generators es una buena idea! Tal vez no lo es: \" If speed is an issue and memory isn’t, then a list comprehension is likely a better tool for the job.\"\n",
        "\n",
        "**Notas (martes 24 de enero, 2023)**\n",
        "\n",
        "-TODO: Recuerda por qué necesitabas ejecutar la función \"eliminar_entradas_comunes\" dos veces. Ve si puedes redefinirla para no tener que hacer eso.\n",
        "\n",
        "-TODO: Implementa un código que vea si las bases de Legendre calculadas\n",
        "son, en efecto, ortonormales.\n",
        "\n",
        "Símbolos:\n",
        "\n",
        "\n",
        "*   ✅ Código listo, funciona correctamente\n",
        "*   ❌ Código listo, no funciona correctamente\n",
        "*   ⭕ Código en construcción\n",
        "\n"
      ],
      "metadata": {
        "id": "NQAf5fnGiimM"
      }
    },
    {
      "cell_type": "code",
      "source": [
        "import math \n",
        "import numpy as np"
      ],
      "metadata": {
        "id": "rXgZVKrCcQIQ"
      },
      "execution_count": null,
      "outputs": []
    },
    {
      "cell_type": "markdown",
      "source": [
        "El objetivo de los algoritmos de tipo **sumatoria** es calcular la expresión\n",
        "$\\sum_{j=0}^{min(k,m)}{B_{n,k,m,j}}$.\n",
        "\n",
        "Ellos usan funciones de tipo **sumando**, que calculan de formas distintas\n",
        "a los números $B_{n,k,m,j}$."
      ],
      "metadata": {
        "id": "LcBLCmgDQsQS"
      }
    },
    {
      "cell_type": "markdown",
      "source": [
        "**Funciones sumatoria (versión 1 ✅) y sumando (versiones 1.0 ✅ y 1.1 ✅)** "
      ],
      "metadata": {
        "id": "YQHu2uP0nWVu"
      }
    },
    {
      "cell_type": "code",
      "source": [
        "#--- Función factorial, escrita por mí, usando un diccionario como memoria.\n",
        "# sacrificamos memoria a cambio de obtener rapidez.\n",
        "\n",
        "memo={0: 1, 1:1} #inicializamos la memoria. Guardamos los primeros valores de factorial.\n",
        "# La llave es un int>=0 n, el valor es el factorial de n (la llave).\n",
        "\n",
        "\n",
        "def ame_factorial(n, memoria=memo):\n",
        "    \"\"\"\n",
        "    n es un int>=0. 'memoria' es un diccionario en el que se almacenarán los factoriales\n",
        "    calculados por esta función cuando ha sido llamada con distintos valores de n\n",
        "    (la llave será el entero, el valor el factorial de dicho entero).\n",
        "    Ya tiene guardados los factoriales de 0 y 1.\n",
        "    \"\"\"\n",
        "    try: \n",
        "        return memoria[n]\n",
        "    except KeyError: #si la llave 'n' no está en 'memoria', es porque no se ha calculado el valor n!\n",
        "        #calculamos pues n! y después guardamos el valor en 'memoria'\n",
        "        resultado=n*factorial(n-1)\n",
        "        memoria[n]=resultado\n",
        "        return resultado"
      ],
      "metadata": {
        "id": "d51HaCWPPCYX"
      },
      "execution_count": null,
      "outputs": []
    },
    {
      "cell_type": "code",
      "source": [
        "#SUMANDO: VERSION 1.0 \n",
        "#Que usa directamente la expresión de los sumandos como un cociente de factoriales, y para el cálculo de factoriales\n",
        "#usa la built-in function de Python \"factorial\", que está en el módulo \"math\".\n",
        "\n",
        "from math import factorial\n",
        "\n",
        "def sumando_V1_0(n,k,m,j):\n",
        "  return math.factorial(k+j)*math.factorial(n-(j+1))/((math.factorial(j))**2*math.factorial(k-j)*math.factorial(m-j)) \n",
        "\n",
        "#SUMANDO: VERSION 1.1\n",
        "#Que usa directamente la expresión de los sumandos como un cociente de factoriales, y para el cálculo de factoriales\n",
        "#usa la función \"ame_factorial\" que definí más arriba.\n",
        "def sumando_V1_1(n,k,m,j):\n",
        "  return ame_factorial(k+j)*ame_factorial(n-(j+1))/((ame_factorial(j))**2*ame_factorial(k-j)*ame_factorial(m-j)) \n"
      ],
      "metadata": {
        "id": "A66Dl035ZZj9"
      },
      "execution_count": null,
      "outputs": []
    },
    {
      "cell_type": "code",
      "source": [
        "\n",
        "#SUMATORIA: VERSION 1. Además de los enteros n,k y m, esta función tiene como argumento a una de las dos funciones\n",
        "#\"sumando_V1_0\" y \"sumando_V1_1\", que usará para calcular (salvo cierto factor) a los números que va a sumar.\n",
        "#Se ha puesto de default a sumando=sumando_V1_0.\n",
        "\n",
        "def sumatoria_V1(n,k,m, sumando=sumando_V1_1):\n",
        "  limite=min(m,k) #Calculamos el límite superior de la sumatoria\n",
        "  factor=math.factorial(m)/(math.factorial(n-1))\n",
        "\n",
        "  #Calculamos y guardamos los sumandos dependiendo de la paridad del índice j correspondiente.\n",
        "  sumandos_pares=[sumando(n,k,m,j) for j in range(0,limite+1,2)]\n",
        "  sumandos_impares=[sumando(n,k,m,j) for j in range(1,limite+1,2)] \n",
        "\n",
        "  #reordenamos los valores almacenados en los dos anteriores arrays de menor a mayor con el método \"sort\".\n",
        "  sumandos_pares.sort() \n",
        "  sumandos_impares.sort()\n",
        "\n",
        "  #TODO: Al momento de ejecutar a continuación la built-in function \"sum\", ¿estoy segura de que se suman de menor a mayor?\n",
        "\n",
        "  return (math.factorial(m)/(math.factorial(n-1)))*(sum(sumandos_pares)-sum(sumandos_impares))\n"
      ],
      "metadata": {
        "id": "9PxRAUQEQJv2"
      },
      "execution_count": null,
      "outputs": []
    },
    {
      "cell_type": "markdown",
      "source": [
        "**Funciones sumatoria (versión 2 ✅) y sumando (versión 2.0 ✅)** "
      ],
      "metadata": {
        "id": "NloUlaa1SuSX"
      }
    },
    {
      "cell_type": "code",
      "source": [
        "def eliminar_entradas_comunes(A, B):\n",
        "  \"\"\"\n",
        "  A y B son ambas listas.\n",
        "  El output es una lista cuyas entradas son todas las de A menos las que aparecen también en B.\n",
        "  Nota entonces que el orden de los argumentos es importante.\n",
        "  \"\"\"\n",
        "  copia_A=A.copy()\n",
        "  copia_B=B.copy()\n",
        "  for i in A:\n",
        "    if i in copia_B:\n",
        "      copia_A.remove(i)\n",
        "      copia_B.remove(i)\n",
        "  return copia_A\n",
        "\n",
        "  #Algunas pruebas (que muestran que SÍ importa el orden de los argumentos)."
      ],
      "metadata": {
        "id": "d1S4PPpaTTs3"
      },
      "execution_count": null,
      "outputs": []
    },
    {
      "cell_type": "code",
      "source": [
        "#SUMATORIA: VERSION 2. En la que se usa la expresión (??) de la tesis para el sumando B_{n,k,m,j}\n",
        "\n",
        "def sumando_V2_0(n,k,m,j):\n",
        "  B1=[t for t in range(m-j+1, m+1)]\n",
        "  B2=[t for t in range(k-j+1, k+j+1)]\n",
        "  B3=[t for t in range(n-j, n)]\n",
        "  B4=[t for t in range(1, j+1)]\n",
        "\n",
        "  #concatenamos cadenas\n",
        "  numerador=B1+B2 \n",
        "  denominador=B3+2*B4\n",
        "\n",
        "  #simplificamos #TODO: deberíamos ordenar de menor a mayor?\n",
        "  numerador_simplificado=eliminar_entradas_comunes(numerador, denominador)\n",
        "  denominador_simplificado=eliminar_entradas_comunes(denominador, numerador)\n",
        "\n",
        "  #Si alguna de esas listas es vacía, np. da como producto de sus entradas a 1 \n",
        "  num=np.prod(numerador_simplificado)\n",
        "  den=np.prod(denominador_simplificado)\n",
        "\n",
        "  return num/den\n",
        "\n",
        "def sumatoria_V2(n,k,m, sumando=sumando_V2_0):\n",
        "  limite=min(m,k) #Calculamos el límite superior de la sumatoria\n",
        "\n",
        "  #Calculamos y guardamos los sumandos dependiendo de la paridad del índice j correspondiente.\n",
        "  #Nota: No te confundas; no estás usando Python generator expressions.\n",
        "  sumandos_pares=[sumando(n,k,m,j) for j in range(0,limite+1,2)]\n",
        "  sumandos_impares=[sumando(n,k,m,j) for j in range(1,limite+1,2)] \n",
        "\n",
        "  #reordenamos los valores almacenados en los dos anteriores arrays de menor a mayor con el método \"sort\".\n",
        "  sumandos_pares.sort() \n",
        "  sumandos_impares.sort()\n",
        "\n",
        "  #TODO: Al momento de ejecutar a continuación la built-in function \"sum\", ¿estoy segura de que se suman de menor a mayor?\n",
        "  return sum(sumandos_pares)-sum(sumandos_impares)"
      ],
      "metadata": {
        "id": "txy7qCqBnLJa"
      },
      "execution_count": null,
      "outputs": []
    },
    {
      "cell_type": "markdown",
      "source": [
        "**Cálculo de las bases de legendre discretas.**\n",
        "\n",
        "A continuación se dan los algoritmos\n",
        "\n",
        "\n",
        "*   base_Legendre_dimensionImpar ✅\n",
        "*   base_Legendre_dimensionPar ✅\n",
        "*   calculo_base ✅"
      ],
      "metadata": {
        "id": "nBpStTEplua4"
      }
    },
    {
      "cell_type": "code",
      "source": [
        "def base_Legendre_dimensionImpar(n, sumatoria=sumatoria_V1):\n",
        "    \"\"\"\n",
        "    Input: n natural impar (variable de tipo int), que se interpreta como la dimensión del espacio,\n",
        "           función \"sumatoria\", que se usará para calcular los sumandos (??). El valor de default de esta variable es \"sumatoria_V1\"\n",
        "    Output: array con n arrays, siendo estos los vectores de la base de Legendre discreta de la dimensión n especificada.\n",
        "    \"\"\" \n",
        "    N=n//2 #Damos el entero N tal que n=2*N+1\n",
        "\n",
        "    #primero, calculamos y guardamos en una matriz los límites de sumación. \n",
        "    #Recuerde que tales límites son simplemente min(k,m) \n",
        "\n",
        "    BaseLegendre=[]\n",
        "    for k in range(n): #iteramos primero en la variable de grado.\n",
        "        #como a estas alturas del algoritmo ya se han fijado 'n' y 'k', calculamos A_nk\n",
        "        A_nk=((-1)**k)*math.factorial(n-1)*math.sqrt((2*k+1)/(math.factorial(n-k-1)*math.factorial(n+k)))\n",
        "\n",
        "        vector_Legendre=[0]*n #inicializamos el vector de Legendre de grado k\n",
        "        #vamos a calcular la m-ésima entrada del vector.\n",
        "        for m in range(N):\n",
        "            #Salvo el factor A_nk, se calcula la m-esima entrada del vector de Legendre.\n",
        "            suma=sumatoria(n,k,m)\n",
        "            entrada_Legendre=A_nk*suma\n",
        "            #La agregamos...\n",
        "            vector_Legendre[m]=entrada_Legendre\n",
        "            #... y la reflejamos en la posición opuesta con el signo correcto.\n",
        "            vector_Legendre[2*N-m]=(-1)**k*entrada_Legendre\n",
        "        #por último, calculamos la entrada central.\n",
        "        if k%2==1: #si k es impar\n",
        "            vector_Legendre[N]=0\n",
        "        else:\n",
        "            suma=sumatoria(n,k,N)\n",
        "            vector_Legendre[N]=(-1)**k*A_nk*suma\n",
        "        BaseLegendre.append(vector_Legendre)\n",
        "        \n",
        "    return BaseLegendre"
      ],
      "metadata": {
        "id": "iFL2hI67ZrDr"
      },
      "execution_count": null,
      "outputs": []
    },
    {
      "cell_type": "code",
      "source": [
        "def base_Legendre_dimensionPar(n, sumatoria=sumatoria_V1):\n",
        "    \"\"\"\n",
        "    Input: n natural par (variable de tipo int), que se interpreta como la dimensión del espacio,\n",
        "           función \"sumatoria\", que se usará para calcular los sumandos (??). El valor de default de esta variable es \"sumatoria_V1\"\n",
        "    Output: array con n arrays, siendo estos los vectores de la base de Legendre discreta de la dimensión n especificada.\n",
        "    \"\"\" \n",
        "    N=n//2\n",
        "    matriz_limite_sumacion=[]\n",
        "    for m in range(N+1):\n",
        "        row=[] #inicializamos la m-ésima fila.\n",
        "        #ahora, lo llenamos.\n",
        "        for k in range(n):\n",
        "            row.append(min(m,k))\n",
        "        #por último, lo agregamos a la matriz_limite_sumacion\n",
        "        matriz_limite_sumacion.append(row)\n",
        "    \n",
        "    BaseLegendre=[]\n",
        "    for k in range(n): #iteramos primero en la variable de grado.\n",
        "        A_nk=((-1)**k)*math.factorial(n-1)*math.sqrt((2*k+1)/(math.factorial(n-k-1)*math.factorial(n+k)))\n",
        "        vector_Legendre=[0]*n #inicializamos el vector de Legendre de grado k\n",
        "        #vamos a calcular la m-ésima entrada del vector.\n",
        "        for m in range(N):\n",
        "            #se calcula la m-esima entrada del vector de Legendre (salvo el factor A_nk).\n",
        "            suma=sumatoria(n,k,m)\n",
        "            entrada_Legendre=A_nk*suma\n",
        "            #La agregamos...\n",
        "            vector_Legendre[m]=entrada_Legendre\n",
        "            #... y la reflejamos en la posición opuesta con el signo correcto.\n",
        "            vector_Legendre[2*N-m-1]=(-1)**k*entrada_Legendre\n",
        "        BaseLegendre.append(vector_Legendre)\n",
        "        \n",
        "    return BaseLegendre\n"
      ],
      "metadata": {
        "id": "C1iPK9b8ZrHR"
      },
      "execution_count": null,
      "outputs": []
    },
    {
      "cell_type": "code",
      "source": [
        "def calculo_base(n, sumatoria=sumatoria_V1):\n",
        "    \"\"\"\n",
        "    Dada una dimensión n (int>1), esta función regresa un array con n arrays, siendo estos\n",
        "    los vectores de la base de Legendre discreta de la dimensión n especificada.\n",
        "    \"\"\"\n",
        "    if n%2==0:\n",
        "        return base_Legendre_dimensionPar(n)\n",
        "    return base_Legendre_dimensionImpar(n)\n",
        "\n",
        "#calculo_base(4)"
      ],
      "metadata": {
        "id": "KbpXPX0yZxUq"
      },
      "execution_count": null,
      "outputs": []
    },
    {
      "cell_type": "markdown",
      "source": [
        "**Comprobando que la función** \"base_Legendre\" dé como output bases\n",
        "ortonormales de espacios $\\mathbb{R}^{n}$. ⭕"
      ],
      "metadata": {
        "id": "7HMCfdnOWVfy"
      }
    },
    {
      "cell_type": "code",
      "source": [
        "\n",
        "\n",
        "#print(np.dot(calculo_base(100)[10], calculo_base(100)[10]))"
      ],
      "metadata": {
        "id": "rRgSid2dblO1"
      },
      "execution_count": null,
      "outputs": []
    },
    {
      "cell_type": "markdown",
      "source": [
        "**Comparando los dos enfoques entre sí y el desempeño de cada uno.** ⭕"
      ],
      "metadata": {
        "id": "4YCwzHW4xpnL"
      }
    },
    {
      "cell_type": "code",
      "source": [
        "def comparando_resultados(dim):\n",
        "  \"\"\"\n",
        "  dim es un entero mayor a 2. La función calcula las bases de Legendre de dimensión 2 hasta dim\n",
        "  con las funciones sumatoria_V2 y sumatoria_V3, para comparar las correspondientes entradas de las\n",
        "  bases coinciden entre sí. Si, al ir iterando, encuentra una dimensión en la que no coinciden, imprime\n",
        "  la dimensión y el grado en el que encontró una discrepancia. Si nunca encuentra discrepancias, termina\n",
        "  de ejecutarse imprimiendo un mensaje en el que se indica esto.\n",
        "  \"\"\"\n",
        "  print(\"Comparamos las bases de Legendre discretas hasta dimensión \"+str(dim)+\" calculadas con los dos métodos de sumación\")\n",
        "  for n in range(2, dim+1):\n",
        "    legendreV2=calculo_base(n, sumatoria=sumatoria_V1)\n",
        "    legendreV3=calculo_base(n, sumatoria=sumatoria_V2)\n",
        "    for k in range(n):\n",
        "      if legendreV2[k]!=legendreV3[k]:\n",
        "        print(\"Primera discrepancia de resultados en la dimensión \"+str(n)+\" y grado\"+str(k))\n",
        "        break\n",
        "  print(\"Los resultados coincidieron todos!\")\n",
        "\n",
        "#print(comparando_resultados(30)) #Los resultados coincidieron todos!\n",
        "#print(comparando_resultados(60)) #Los resultados coincidieron todos!\n",
        "#print(comparando_resultados(100)) #Los resultados coincidieron todos!"
      ],
      "metadata": {
        "id": "c5dCCX6xxugS"
      },
      "execution_count": null,
      "outputs": []
    },
    {
      "cell_type": "code",
      "source": [
        "import sys \n",
        "#print(sys.getsizeof(calculo_base(100, sumatoria=sumatoria_V2))) #904. Es mucho? pregunta a Javier\n",
        "#print(sys.getsizeof(base_Legendre(300, sumatoria=sumatoria_V2))) #OverflowError: int too large to convert to float"
      ],
      "metadata": {
        "id": "UMqWwNusDaRz"
      },
      "execution_count": null,
      "outputs": []
    },
    {
      "cell_type": "code",
      "source": [
        "import cProfile\n",
        "\n",
        "#cProfile.run('calculo_base(50, sumatoria=sumatoria_V2)')"
      ],
      "metadata": {
        "id": "ues_z6uSEDYj"
      },
      "execution_count": null,
      "outputs": []
    },
    {
      "cell_type": "code",
      "source": [],
      "metadata": {
        "id": "ZjSJFrhHEsSf"
      },
      "execution_count": null,
      "outputs": []
    }
  ]
}